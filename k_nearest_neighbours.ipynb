{
 "cells": [
  {
   "cell_type": "markdown",
   "metadata": {},
   "source": [
    "# K-nearest neighbours"
   ]
  },
  {
   "cell_type": "code",
   "execution_count": 131,
   "metadata": {},
   "outputs": [],
   "source": [
    "from sklearn import datasets\n",
    "import numpy as np\n",
    "import matplotlib.pyplot as plt\n",
    "import pandas as pd\n",
    "from scipy.spatial import distance_matrix\n",
    "import random"
   ]
  },
  {
   "cell_type": "code",
   "execution_count": 2,
   "metadata": {},
   "outputs": [],
   "source": [
    "iris = datasets.load_iris()\n",
    "iris_df = pd.DataFrame(iris.data, columns=iris.feature_names)\n",
    "iris_df['Class'] = iris.target"
   ]
  },
  {
   "cell_type": "code",
   "execution_count": 23,
   "metadata": {},
   "outputs": [],
   "source": [
    "def eucladian_distance(p1,p2):\n",
    "    return np.linalg.norm(p1 - p2)"
   ]
  },
  {
   "cell_type": "code",
   "execution_count": 326,
   "metadata": {},
   "outputs": [],
   "source": [
    "k = 4 #number of nearest neighbours\n",
    "grid_size = 10\n",
    "\n",
    "# Using only sepal length (cm) sepal width (cm)\n",
    "# create a grid:\n",
    "max_length = max(iris_df['sepal length (cm)'])\n",
    "min_length = min(iris_df['sepal length (cm)'])\n",
    "max_width = max(iris_df['sepal width (cm)'])\n",
    "min_width = min(iris_df['sepal width (cm)'])\n",
    "\n",
    "\n",
    "length = np.linspace(min_length-0.5, max_length+0.5, grid_size)\n",
    "width = np.linspace(min_width-0.5, max_width+0.5, grid_size)\n",
    "\n",
    "classification_grid = 10*np.ones(shape=(grid_size, grid_size))\n",
    "\n",
    "for i in range(grid_size):\n",
    "    for j in range(grid_size): \n",
    "        p1 = [length[i], width[j]]\n",
    "        for n in range(len(iris_df)):\n",
    "            p2 = np.array(iris_df['sepal length (cm)'][n], iris_df['sepal width (cm)'][n]).copy()\n",
    "            distance.append([eucladian_distance(p1, p2), n])\n",
    "        distance.sort()\n",
    "        #Get the indexes for k nearest neighbours\n",
    "        knn_index = np.array(distance)[:k,1].copy()\n",
    "        distance = []\n",
    "\n",
    "        #Get the labels for knn\n",
    "        knn_labels = [iris_df['Class'][index] for index in knn_index]\n",
    "\n",
    "        # Calculate class\n",
    "        classes = {np.sum(np.sum(np.array(knn_labels)==0)):0, np.sum(np.sum(np.array(knn_labels)==1)):1, np.sum(np.sum(np.array(knn_labels)==2)):2}\n",
    "       \n",
    "        winning = max(classes.keys()).copy()\n",
    "            \n",
    "        classification_grid[j][i] =  classes[winning]\n",
    "    \n",
    "            "
   ]
  },
  {
   "cell_type": "code",
   "execution_count": 334,
   "metadata": {},
   "outputs": [
    {
     "data": {
      "text/plain": [
       "<matplotlib.collections.PathCollection at 0x1a1d9ea208>"
      ]
     },
     "execution_count": 334,
     "metadata": {},
     "output_type": "execute_result"
    },
    {
     "data": {
      "image/png": "[encoded data removed]",
      "text/plain": [
       "<Figure size 432x288 with 1 Axes>"
      ]
     },
     "metadata": {
      "needs_background": "light"
     },
     "output_type": "display_data"
    }
   ],
   "source": [
    "fig,ax = plt.subplots()\n",
    "\n",
    "#ax.set_xlim([min_length-0.5,max_length+0.5])\n",
    "#ax.set_ylim([min_width-0.5,max_width+0.5])\n",
    "#ax.set_xticks(length)\n",
    "#ax.set_yticks(width)\n",
    "ax.imshow(classification_grid)#, extent=[min_length-0.5, max_length+0.5,min_width-0.5, max_width+0.5])\n",
    "\n",
    "\n",
    "color = ['r','g','b']\n",
    "plt.scatter(iris_df['sepal length (cm)'], iris_df['sepal width (cm)'],c=iris.target,edgecolors='white')"
   ]
  },
  {
   "cell_type": "code",
   "execution_count": 319,
   "metadata": {},
   "outputs": [
    {
     "data": {
      "text/plain": [
       "int"
      ]
     },
     "execution_count": 319,
     "metadata": {},
     "output_type": "execute_result"
    }
   ],
   "source": [
    "type(classes[winning])"
   ]
  },
  {
   "cell_type": "code",
   "execution_count": 332,
   "metadata": {},
   "outputs": [
    {
     "data": {
      "text/plain": [
       "array([3.8       , 4.31111111, 4.82222222, 5.33333333, 5.84444444,\n",
       "       6.35555556, 6.86666667, 7.37777778, 7.88888889, 8.4       ])"
      ]
     },
     "execution_count": 332,
     "metadata": {},
     "output_type": "execute_result"
    }
   ],
   "source": [
    "length"
   ]
  },
  {
   "cell_type": "code",
   "execution_count": null,
   "metadata": {},
   "outputs": [],
   "source": []
  }
 ],
 "metadata": {
  "kernelspec": {
   "display_name": "Python 3",
   "language": "python",
   "name": "python3"
  },
  "language_info": {
   "codemirror_mode": {
    "name": "ipython",
    "version": 3
   },
   "file_extension": ".py",
   "mimetype": "text/x-python",
   "name": "python",
   "nbconvert_exporter": "python",
   "pygments_lexer": "ipython3",
   "version": "3.7.1"
  }
 },
 "nbformat": 4,
 "nbformat_minor": 2
}
